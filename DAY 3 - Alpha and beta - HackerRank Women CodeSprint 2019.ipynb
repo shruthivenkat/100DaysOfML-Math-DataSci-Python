{
 "cells": [
  {
   "cell_type": "markdown",
   "metadata": {},
   "source": [
    "#  HackerRank All Women's Codesprint 2019"
   ]
  },
  {
   "cell_type": "markdown",
   "metadata": {},
   "source": [
    "## ALPHA & BETA - 10 POINTS \n",
    "\n",
    "Our friends Alpha and Beta found a magical treasure of Asgard. It consists of  piles of gold coins. It is magical since if anyone tries to take a pile of  coins, all the other piles of exactly  coins (if they exist) disappear.\n",
    "\n",
    "Alpha and Beta only have one turn each to choose a pile for themselves starting with Alpha. In one turn, a complete pile of gold coins can be chosen and since our friends are smart they will choose the pile with the maximum coins.\n",
    "\n",
    "Find the number of coins Beta will get in his turn."
   ]
  },
  {
   "cell_type": "code",
   "execution_count": 81,
   "metadata": {},
   "outputs": [
    {
     "name": "stdout",
     "output_type": "stream",
     "text": [
      "6\n",
      "1 2 3 5 4 5\n",
      "[3, 5]\n",
      "==================\n",
      "[3, 5]\n",
      "RESULT = 4\n"
     ]
    }
   ],
   "source": [
    "#!/bin/python3\n",
    "\n",
    "import math\n",
    "import os\n",
    "import random\n",
    "import re\n",
    "import sys\n",
    "import numpy as np\n",
    "\n",
    "def alphaBeta(pile):\n",
    "    if pile.count == 1:\n",
    "        max_val = pile[0]\n",
    "    else:\n",
    "        max_val = max(pile)\n",
    "    arr2 = []\n",
    "    count = 0\n",
    "    \n",
    "    for i in range(0, len(pile)):\n",
    "        if max_val != pile[i]:\n",
    "            arr2.append(pile[i])\n",
    "        \n",
    "    \n",
    "    missing_num = len(pile) - len(arr2) \n",
    "    \n",
    "    if missing_num == 1:\n",
    "        print(\"RESULT = \"+ str(max(arr2)))\n",
    "    else:\n",
    "        location_arr = []\n",
    "        for i in range(0, len(pile)):\n",
    "            if pile[i] == max_val:\n",
    "                location_arr.append(i)\n",
    "                \n",
    "        print(location_arr)\n",
    "        if len(location_arr)%2 != 0:\n",
    "            location_arr.pop()\n",
    "        print(\"==================\")\n",
    "        print(location_arr)\n",
    "                \n",
    "        a_new = np.delete(pile, location_arr, 0)\n",
    "        print(\"RESULT = \"+ str(max(a_new)))\n",
    "            \n",
    "       \n",
    "            \n",
    "            \n",
    "    if len(pile) == 1:\n",
    "            arr2.append('0')\n",
    "            print(\"RESULT = \"+ str(max(arr2)))\n",
    "\n",
    "    \n",
    "    \n",
    "if __name__ == '__main__':\n",
    "    \n",
    "    n = int(input().strip())\n",
    "\n",
    "    pile = list(map(int, input().rstrip().split()))\n",
    "\n",
    "    result = alphaBeta(pile)\n",
    "\n"
   ]
  },
  {
   "cell_type": "code",
   "execution_count": null,
   "metadata": {},
   "outputs": [],
   "source": []
  }
 ],
 "metadata": {},
 "nbformat": 4,
 "nbformat_minor": 2
}
