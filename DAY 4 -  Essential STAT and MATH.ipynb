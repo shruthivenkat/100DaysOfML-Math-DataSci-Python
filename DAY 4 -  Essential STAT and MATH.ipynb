{
 "cells": [
  {
   "cell_type": "markdown",
   "metadata": {},
   "source": [
    "# STATISTICS"
   ]
  },
  {
   "cell_type": "markdown",
   "metadata": {},
   "source": [
    "## (1) Mean / Average"
   ]
  },
  {
   "cell_type": "code",
   "execution_count": 7,
   "metadata": {},
   "outputs": [
    {
     "name": "stdout",
     "output_type": "stream",
     "text": [
      "36.71\n"
     ]
    }
   ],
   "source": [
    "a = [1,3,6,9,2,4,20,77,33,0,1,55,3,300]\n",
    "\n",
    "sum = 0\n",
    "for i in range(0,len(a)):\n",
    "    sum = sum +a[i]\n",
    "\n",
    "mean = round((sum / len(a)), 2)\n",
    "print(mean)\n"
   ]
  },
  {
   "cell_type": "markdown",
   "metadata": {},
   "source": [
    "## (2) Median"
   ]
  },
  {
   "cell_type": "code",
   "execution_count": 25,
   "metadata": {},
   "outputs": [
    {
     "name": "stdout",
     "output_type": "stream",
     "text": [
      "6\n"
     ]
    }
   ],
   "source": [
    "a = [1,3,6,9,10]\n",
    "\n",
    "a.sort()\n",
    "\n",
    "if len(a)%2 == 0:\n",
    "    position = round(int(len(a)/2),0)\n",
    "    mean = round((a[position] + a[position - 1]) /2, 2)\n",
    "else:\n",
    "    position = round(int(len(a)/2), 0)\n",
    "    mean = a[position]\n",
    "    \n",
    "print(mean)"
   ]
  },
  {
   "cell_type": "code",
   "execution_count": null,
   "metadata": {},
   "outputs": [],
   "source": []
  }
 ],
 "metadata": {
  "kernelspec": {
   "display_name": "Python 3",
   "language": "python",
   "name": "python3"
  },
  "language_info": {
   "codemirror_mode": {
    "name": "ipython",
    "version": 3
   },
   "file_extension": ".py",
   "mimetype": "text/x-python",
   "name": "python",
   "nbconvert_exporter": "python",
   "pygments_lexer": "ipython3",
   "version": "3.6.5"
  }
 },
 "nbformat": 4,
 "nbformat_minor": 2
}
